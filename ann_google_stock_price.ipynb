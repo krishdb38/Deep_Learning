{
 "cells": [
  {
   "cell_type": "markdown",
   "metadata": {},
   "source": [
    "# Recurrent Neural Network"
   ]
  },
  {
   "cell_type": "markdown",
   "metadata": {},
   "source": [
    "## Part 1 Data Preprocessing"
   ]
  },
  {
   "cell_type": "code",
   "execution_count": 1,
   "metadata": {},
   "outputs": [],
   "source": [
    "# Importing the libraries\n",
    "\n",
    "import numpy as np\n",
    "import pandas as pd\n",
    "import matplotlib.pyplot as plt"
   ]
  },
  {
   "cell_type": "code",
   "execution_count": 2,
   "metadata": {},
   "outputs": [
    {
     "data": {
      "text/html": [
       "<div>\n",
       "<style scoped>\n",
       "    .dataframe tbody tr th:only-of-type {\n",
       "        vertical-align: middle;\n",
       "    }\n",
       "\n",
       "    .dataframe tbody tr th {\n",
       "        vertical-align: top;\n",
       "    }\n",
       "\n",
       "    .dataframe thead th {\n",
       "        text-align: right;\n",
       "    }\n",
       "</style>\n",
       "<table border=\"1\" class=\"dataframe\">\n",
       "  <thead>\n",
       "    <tr style=\"text-align: right;\">\n",
       "      <th></th>\n",
       "      <th>Date</th>\n",
       "      <th>Open</th>\n",
       "      <th>High</th>\n",
       "      <th>Low</th>\n",
       "      <th>Close</th>\n",
       "      <th>Volume</th>\n",
       "    </tr>\n",
       "  </thead>\n",
       "  <tbody>\n",
       "    <tr>\n",
       "      <th>0</th>\n",
       "      <td>1/3/2012</td>\n",
       "      <td>325.25</td>\n",
       "      <td>332.83</td>\n",
       "      <td>324.97</td>\n",
       "      <td>663.59</td>\n",
       "      <td>7,380,500</td>\n",
       "    </tr>\n",
       "    <tr>\n",
       "      <th>1</th>\n",
       "      <td>1/4/2012</td>\n",
       "      <td>331.27</td>\n",
       "      <td>333.87</td>\n",
       "      <td>329.08</td>\n",
       "      <td>666.45</td>\n",
       "      <td>5,749,400</td>\n",
       "    </tr>\n",
       "    <tr>\n",
       "      <th>2</th>\n",
       "      <td>1/5/2012</td>\n",
       "      <td>329.83</td>\n",
       "      <td>330.75</td>\n",
       "      <td>326.89</td>\n",
       "      <td>657.21</td>\n",
       "      <td>6,590,300</td>\n",
       "    </tr>\n",
       "    <tr>\n",
       "      <th>3</th>\n",
       "      <td>1/6/2012</td>\n",
       "      <td>328.34</td>\n",
       "      <td>328.77</td>\n",
       "      <td>323.68</td>\n",
       "      <td>648.24</td>\n",
       "      <td>5,405,900</td>\n",
       "    </tr>\n",
       "    <tr>\n",
       "      <th>4</th>\n",
       "      <td>1/9/2012</td>\n",
       "      <td>322.04</td>\n",
       "      <td>322.29</td>\n",
       "      <td>309.46</td>\n",
       "      <td>620.76</td>\n",
       "      <td>11,688,800</td>\n",
       "    </tr>\n",
       "  </tbody>\n",
       "</table>\n",
       "</div>"
      ],
      "text/plain": [
       "       Date    Open    High     Low   Close      Volume\n",
       "0  1/3/2012  325.25  332.83  324.97  663.59   7,380,500\n",
       "1  1/4/2012  331.27  333.87  329.08  666.45   5,749,400\n",
       "2  1/5/2012  329.83  330.75  326.89  657.21   6,590,300\n",
       "3  1/6/2012  328.34  328.77  323.68  648.24   5,405,900\n",
       "4  1/9/2012  322.04  322.29  309.46  620.76  11,688,800"
      ]
     },
     "execution_count": 2,
     "metadata": {},
     "output_type": "execute_result"
    }
   ],
   "source": [
    "# Importing the training sets\n",
    "training_data = pd.read_csv(\"datas/Google_Stock_train.csv\")\n",
    "training_data.head()"
   ]
  },
  {
   "cell_type": "code",
   "execution_count": 3,
   "metadata": {},
   "outputs": [
    {
     "data": {
      "text/html": [
       "<div>\n",
       "<style scoped>\n",
       "    .dataframe tbody tr th:only-of-type {\n",
       "        vertical-align: middle;\n",
       "    }\n",
       "\n",
       "    .dataframe tbody tr th {\n",
       "        vertical-align: top;\n",
       "    }\n",
       "\n",
       "    .dataframe thead th {\n",
       "        text-align: right;\n",
       "    }\n",
       "</style>\n",
       "<table border=\"1\" class=\"dataframe\">\n",
       "  <thead>\n",
       "    <tr style=\"text-align: right;\">\n",
       "      <th></th>\n",
       "      <th>Open</th>\n",
       "    </tr>\n",
       "  </thead>\n",
       "  <tbody>\n",
       "    <tr>\n",
       "      <th>0</th>\n",
       "      <td>325.25</td>\n",
       "    </tr>\n",
       "    <tr>\n",
       "      <th>1</th>\n",
       "      <td>331.27</td>\n",
       "    </tr>\n",
       "    <tr>\n",
       "      <th>2</th>\n",
       "      <td>329.83</td>\n",
       "    </tr>\n",
       "    <tr>\n",
       "      <th>3</th>\n",
       "      <td>328.34</td>\n",
       "    </tr>\n",
       "    <tr>\n",
       "      <th>4</th>\n",
       "      <td>322.04</td>\n",
       "    </tr>\n",
       "  </tbody>\n",
       "</table>\n",
       "</div>"
      ],
      "text/plain": [
       "     Open\n",
       "0  325.25\n",
       "1  331.27\n",
       "2  329.83\n",
       "3  328.34\n",
       "4  322.04"
      ]
     },
     "execution_count": 3,
     "metadata": {},
     "output_type": "execute_result"
    }
   ],
   "source": [
    "training_set = training_data.iloc[:,1:2]\n",
    "training_set.head()"
   ]
  },
  {
   "cell_type": "markdown",
   "metadata": {},
   "source": [
    "#### Feature Scalling"
   ]
  },
  {
   "cell_type": "code",
   "execution_count": 4,
   "metadata": {},
   "outputs": [],
   "source": [
    "from sklearn.preprocessing import MinMaxScaler\n",
    "sc = MinMaxScaler(feature_range=(0,1))\n",
    "training_data_scaled = sc.fit_transform(training_set)"
   ]
  },
  {
   "cell_type": "code",
   "execution_count": 5,
   "metadata": {},
   "outputs": [
    {
     "name": "stdout",
     "output_type": "stream",
     "text": [
      "(1258, 6)\n"
     ]
    }
   ],
   "source": [
    "print(training_data.shape)"
   ]
  },
  {
   "cell_type": "code",
   "execution_count": 6,
   "metadata": {},
   "outputs": [],
   "source": [
    "## Creating a data structure with 60 timestemps and 1 output\n",
    "x_train = []\n",
    "y_train = []\n",
    "for i in range(60, 1258):\n",
    "    # 1258 is shape of training data\n",
    "    x_train.append (training_data_scaled[i-60:i,0])\n",
    "    y_train.append(training_data_scaled[i,0])\n",
    "# convert to numpy \n",
    "x_train, y_train = np.array(x_train), np.array(y_train)\n",
    "\n",
    "# Reshape \n",
    "# \n",
    "x_train = np.reshape(x_train, (x_train.shape[0], x_train.shape[1],1))"
   ]
  },
  {
   "cell_type": "code",
   "execution_count": 7,
   "metadata": {},
   "outputs": [
    {
     "data": {
      "text/plain": [
       "(array([[0.08581368],\n",
       "        [0.09701243],\n",
       "        [0.09433366],\n",
       "        [0.09156187],\n",
       "        [0.07984225]]),\n",
       " 0.08627874097775134,\n",
       " 60)"
      ]
     },
     "execution_count": 7,
     "metadata": {},
     "output_type": "execute_result"
    }
   ],
   "source": [
    "x_train[0,:5], y_train[0], len(x_train[0])"
   ]
  },
  {
   "cell_type": "markdown",
   "metadata": {},
   "source": [
    "# Part 2 Building the RNN"
   ]
  },
  {
   "cell_type": "code",
   "execution_count": 8,
   "metadata": {},
   "outputs": [],
   "source": [
    "from tensorflow.keras.layers import Input, Dense, Dropout, LSTM\n",
    "from tensorflow.keras.models import Sequential"
   ]
  },
  {
   "cell_type": "code",
   "execution_count": 9,
   "metadata": {
    "scrolled": true
   },
   "outputs": [
    {
     "name": "stdout",
     "output_type": "stream",
     "text": [
      "Epoch 1/100\n",
      "38/38 [==============================] - 7s 39ms/step - loss: 0.1111\n",
      "Epoch 2/100\n",
      "38/38 [==============================] - 1s 38ms/step - loss: 0.0073\n",
      "Epoch 3/100\n",
      "38/38 [==============================] - 1s 38ms/step - loss: 0.0058\n",
      "Epoch 4/100\n",
      "38/38 [==============================] - 1s 38ms/step - loss: 0.0053\n",
      "Epoch 5/100\n",
      "38/38 [==============================] - 1s 38ms/step - loss: 0.0055\n",
      "Epoch 6/100\n",
      "38/38 [==============================] - 1s 38ms/step - loss: 0.0048\n",
      "Epoch 7/100\n",
      "38/38 [==============================] - 1s 38ms/step - loss: 0.0048\n",
      "Epoch 8/100\n",
      "38/38 [==============================] - 1s 38ms/step - loss: 0.0043\n",
      "Epoch 9/100\n",
      "38/38 [==============================] - 1s 39ms/step - loss: 0.0055\n",
      "Epoch 10/100\n",
      "38/38 [==============================] - 2s 41ms/step - loss: 0.0045\n",
      "Epoch 11/100\n",
      "38/38 [==============================] - 2s 41ms/step - loss: 0.0038\n",
      "Epoch 12/100\n",
      "38/38 [==============================] - 1s 39ms/step - loss: 0.0049\n",
      "Epoch 13/100\n",
      "38/38 [==============================] - 1s 39ms/step - loss: 0.0041\n",
      "Epoch 14/100\n",
      "38/38 [==============================] - 1s 39ms/step - loss: 0.0043\n",
      "Epoch 15/100\n",
      "38/38 [==============================] - 1s 39ms/step - loss: 0.0039\n",
      "Epoch 16/100\n",
      "38/38 [==============================] - 2s 43ms/step - loss: 0.0039\n",
      "Epoch 17/100\n",
      "38/38 [==============================] - 2s 45ms/step - loss: 0.0036\n",
      "Epoch 18/100\n",
      "38/38 [==============================] - 2s 42ms/step - loss: 0.0040\n",
      "Epoch 19/100\n",
      "38/38 [==============================] - 2s 41ms/step - loss: 0.0037\n",
      "Epoch 20/100\n",
      "38/38 [==============================] - 2s 41ms/step - loss: 0.0041\n",
      "Epoch 21/100\n",
      "38/38 [==============================] - 2s 42ms/step - loss: 0.0038\n",
      "Epoch 22/100\n",
      "38/38 [==============================] - 2s 42ms/step - loss: 0.0037\n",
      "Epoch 23/100\n",
      "38/38 [==============================] - 2s 41ms/step - loss: 0.0034\n",
      "Epoch 24/100\n",
      "38/38 [==============================] - 2s 42ms/step - loss: 0.0030\n",
      "Epoch 25/100\n",
      "38/38 [==============================] - 2s 42ms/step - loss: 0.0034\n",
      "Epoch 26/100\n",
      "38/38 [==============================] - 2s 42ms/step - loss: 0.0032\n",
      "Epoch 27/100\n",
      "38/38 [==============================] - 2s 46ms/step - loss: 0.0034\n",
      "Epoch 28/100\n",
      "38/38 [==============================] - 2s 43ms/step - loss: 0.0030\n",
      "Epoch 29/100\n",
      "38/38 [==============================] - 2s 43ms/step - loss: 0.0032\n",
      "Epoch 30/100\n",
      "38/38 [==============================] - 2s 46ms/step - loss: 0.0036\n",
      "Epoch 31/100\n",
      "38/38 [==============================] - 2s 47ms/step - loss: 0.0028\n",
      "Epoch 32/100\n",
      "38/38 [==============================] - 2s 42ms/step - loss: 0.0027\n",
      "Epoch 33/100\n",
      "38/38 [==============================] - 2s 44ms/step - loss: 0.0027\n",
      "Epoch 34/100\n",
      "38/38 [==============================] - 2s 42ms/step - loss: 0.0030\n",
      "Epoch 35/100\n",
      "38/38 [==============================] - 2s 41ms/step - loss: 0.0037\n",
      "Epoch 36/100\n",
      "38/38 [==============================] - 2s 44ms/step - loss: 0.0035\n",
      "Epoch 37/100\n",
      "38/38 [==============================] - 2s 46ms/step - loss: 0.0029\n",
      "Epoch 38/100\n",
      "38/38 [==============================] - 2s 46ms/step - loss: 0.0023\n",
      "Epoch 39/100\n",
      "38/38 [==============================] - 2s 44ms/step - loss: 0.0028\n",
      "Epoch 40/100\n",
      "38/38 [==============================] - 2s 42ms/step - loss: 0.0028\n",
      "Epoch 41/100\n",
      "38/38 [==============================] - 2s 44ms/step - loss: 0.0028\n",
      "Epoch 42/100\n",
      "38/38 [==============================] - 2s 42ms/step - loss: 0.0027\n",
      "Epoch 43/100\n",
      "38/38 [==============================] - 2s 42ms/step - loss: 0.0029\n",
      "Epoch 44/100\n",
      "38/38 [==============================] - 2s 42ms/step - loss: 0.0028\n",
      "Epoch 45/100\n",
      "38/38 [==============================] - 2s 42ms/step - loss: 0.0025\n",
      "Epoch 46/100\n",
      "38/38 [==============================] - 2s 43ms/step - loss: 0.0027\n",
      "Epoch 47/100\n",
      "38/38 [==============================] - 2s 43ms/step - loss: 0.0027\n",
      "Epoch 48/100\n",
      "38/38 [==============================] - 2s 42ms/step - loss: 0.0024\n",
      "Epoch 49/100\n",
      "38/38 [==============================] - 2s 42ms/step - loss: 0.0023\n",
      "Epoch 50/100\n",
      "38/38 [==============================] - 2s 43ms/step - loss: 0.0022\n",
      "Epoch 51/100\n",
      "38/38 [==============================] - 2s 42ms/step - loss: 0.0025\n",
      "Epoch 52/100\n",
      "38/38 [==============================] - 2s 42ms/step - loss: 0.0024\n",
      "Epoch 53/100\n",
      "38/38 [==============================] - 2s 42ms/step - loss: 0.0024\n",
      "Epoch 54/100\n",
      "38/38 [==============================] - 2s 42ms/step - loss: 0.0026\n",
      "Epoch 55/100\n",
      "38/38 [==============================] - 2s 43ms/step - loss: 0.0023\n",
      "Epoch 56/100\n",
      "38/38 [==============================] - 2s 45ms/step - loss: 0.0024\n",
      "Epoch 57/100\n",
      "38/38 [==============================] - 2s 41ms/step - loss: 0.0023\n",
      "Epoch 58/100\n",
      "38/38 [==============================] - 2s 43ms/step - loss: 0.0024\n",
      "Epoch 59/100\n",
      "38/38 [==============================] - 2s 41ms/step - loss: 0.0021\n",
      "Epoch 60/100\n",
      "38/38 [==============================] - 2s 43ms/step - loss: 0.0024\n",
      "Epoch 61/100\n",
      "38/38 [==============================] - 2s 44ms/step - loss: 0.0022\n",
      "Epoch 62/100\n",
      "38/38 [==============================] - 2s 41ms/step - loss: 0.0025\n",
      "Epoch 63/100\n",
      "38/38 [==============================] - 2s 42ms/step - loss: 0.0023\n",
      "Epoch 64/100\n",
      "38/38 [==============================] - 2s 42ms/step - loss: 0.0019\n",
      "Epoch 65/100\n",
      "38/38 [==============================] - 2s 42ms/step - loss: 0.0020\n",
      "Epoch 66/100\n",
      "38/38 [==============================] - 2s 42ms/step - loss: 0.0020\n",
      "Epoch 67/100\n",
      "38/38 [==============================] - 2s 44ms/step - loss: 0.0022\n",
      "Epoch 68/100\n",
      "38/38 [==============================] - 2s 45ms/step - loss: 0.0017\n",
      "Epoch 69/100\n",
      "38/38 [==============================] - 2s 42ms/step - loss: 0.0019\n",
      "Epoch 70/100\n",
      "38/38 [==============================] - 2s 42ms/step - loss: 0.0020\n",
      "Epoch 71/100\n",
      "38/38 [==============================] - 2s 42ms/step - loss: 0.0022\n",
      "Epoch 72/100\n",
      "38/38 [==============================] - 2s 42ms/step - loss: 0.0020\n",
      "Epoch 73/100\n",
      "38/38 [==============================] - 2s 44ms/step - loss: 0.0019\n",
      "Epoch 74/100\n",
      "38/38 [==============================] - 2s 42ms/step - loss: 0.0017\n",
      "Epoch 75/100\n",
      "38/38 [==============================] - 2s 41ms/step - loss: 0.0018\n",
      "Epoch 76/100\n",
      "38/38 [==============================] - 2s 41ms/step - loss: 0.0019\n",
      "Epoch 77/100\n",
      "38/38 [==============================] - 2s 42ms/step - loss: 0.0017\n",
      "Epoch 78/100\n",
      "38/38 [==============================] - 2s 43ms/step - loss: 0.0019: 0s - loss:\n",
      "Epoch 79/100\n",
      "38/38 [==============================] - 2s 40ms/step - loss: 0.0021\n",
      "Epoch 80/100\n",
      "38/38 [==============================] - 2s 41ms/step - loss: 0.0019\n",
      "Epoch 81/100\n",
      "38/38 [==============================] - 2s 43ms/step - loss: 0.0016\n",
      "Epoch 82/100\n",
      "38/38 [==============================] - 2s 41ms/step - loss: 0.0017\n",
      "Epoch 83/100\n",
      "38/38 [==============================] - 2s 41ms/step - loss: 0.0015\n",
      "Epoch 84/100\n",
      "38/38 [==============================] - 2s 42ms/step - loss: 0.0014\n",
      "Epoch 85/100\n",
      "38/38 [==============================] - 2s 42ms/step - loss: 0.0018\n",
      "Epoch 86/100\n",
      "38/38 [==============================] - 2s 43ms/step - loss: 0.0015\n",
      "Epoch 87/100\n",
      "38/38 [==============================] - 2s 41ms/step - loss: 0.0016\n",
      "Epoch 88/100\n",
      "38/38 [==============================] - 2s 41ms/step - loss: 0.0017\n",
      "Epoch 89/100\n",
      "38/38 [==============================] - 2s 41ms/step - loss: 0.0016\n",
      "Epoch 90/100\n",
      "38/38 [==============================] - 2s 43ms/step - loss: 0.0016\n",
      "Epoch 91/100\n",
      "38/38 [==============================] - 2s 41ms/step - loss: 0.0017\n",
      "Epoch 92/100\n",
      "38/38 [==============================] - 2s 45ms/step - loss: 0.0014\n",
      "Epoch 93/100\n",
      "38/38 [==============================] - 2s 42ms/step - loss: 0.0017\n",
      "Epoch 94/100\n",
      "38/38 [==============================] - 2s 43ms/step - loss: 0.0015\n",
      "Epoch 95/100\n",
      "38/38 [==============================] - 2s 43ms/step - loss: 0.0016: 0s - los\n",
      "Epoch 96/100\n",
      "38/38 [==============================] - 2s 43ms/step - loss: 0.0015\n",
      "Epoch 97/100\n",
      "38/38 [==============================] - 2s 43ms/step - loss: 0.0014\n",
      "Epoch 98/100\n",
      "38/38 [==============================] - 2s 48ms/step - loss: 0.0014\n",
      "Epoch 99/100\n",
      "38/38 [==============================] - 2s 46ms/step - loss: 0.0014\n",
      "Epoch 100/100\n"
     ]
    },
    {
     "name": "stdout",
     "output_type": "stream",
     "text": [
      "38/38 [==============================] - 2s 46ms/step - loss: 0.0016\n"
     ]
    },
    {
     "data": {
      "text/plain": [
       "<tensorflow.python.keras.callbacks.History at 0x201bb9f6df0>"
      ]
     },
     "execution_count": 9,
     "metadata": {},
     "output_type": "execute_result"
    }
   ],
   "source": [
    "# Initialising the RNN \n",
    "# Sequential API\n",
    "regressor = Sequential()\n",
    "\n",
    "# Adding the first LSTM layer and some Dropout regularisation\n",
    "regressor.add(LSTM(units =50, return_sequences = True, input_shape = (x_train.shape[1],1)))\n",
    "regressor.add(Dropout(0.2))\n",
    "\n",
    "# Adding a second LSTM layer and some Drop regularisation\n",
    "regressor.add(LSTM(units = 50, return_sequences = True))\n",
    "regressor.add(Dropout(0.2))\n",
    "\n",
    "# Adding a third LSTM layer and some Dropout regularisation\n",
    "regressor.add(LSTM(units = 50, return_sequences = True))\n",
    "regressor.add(Dropout(0.2))\n",
    "\n",
    "# Adding a fourth LSTM layer and some Dropout regularization\n",
    "regressor.add(LSTM(units = 50))\n",
    "regressor.add(Dropout(0.2))\n",
    "\n",
    "# Adding the output layer\n",
    "regressor.add(Dense(units = 1))\n",
    "\n",
    "# Compilling the RNN\n",
    "regressor.compile(optimizer = \"adam\", loss = \"mean_squared_error\")\n",
    "\n",
    "# Fitting the RNN to the Trainig set\n",
    "regressor.fit(x_train, y_train, epochs= 100, batch_size = 32)\n"
   ]
  },
  {
   "cell_type": "markdown",
   "metadata": {},
   "source": [
    "## Making the prediction"
   ]
  },
  {
   "cell_type": "code",
   "execution_count": 10,
   "metadata": {},
   "outputs": [
    {
     "data": {
      "text/html": [
       "<div>\n",
       "<style scoped>\n",
       "    .dataframe tbody tr th:only-of-type {\n",
       "        vertical-align: middle;\n",
       "    }\n",
       "\n",
       "    .dataframe tbody tr th {\n",
       "        vertical-align: top;\n",
       "    }\n",
       "\n",
       "    .dataframe thead th {\n",
       "        text-align: right;\n",
       "    }\n",
       "</style>\n",
       "<table border=\"1\" class=\"dataframe\">\n",
       "  <thead>\n",
       "    <tr style=\"text-align: right;\">\n",
       "      <th></th>\n",
       "      <th>Date</th>\n",
       "      <th>Open</th>\n",
       "      <th>High</th>\n",
       "      <th>Low</th>\n",
       "      <th>Close</th>\n",
       "      <th>Volume</th>\n",
       "    </tr>\n",
       "  </thead>\n",
       "  <tbody>\n",
       "    <tr>\n",
       "      <th>0</th>\n",
       "      <td>1/3/2017</td>\n",
       "      <td>778.81</td>\n",
       "      <td>789.63</td>\n",
       "      <td>775.80</td>\n",
       "      <td>786.14</td>\n",
       "      <td>1,657,300</td>\n",
       "    </tr>\n",
       "    <tr>\n",
       "      <th>1</th>\n",
       "      <td>1/4/2017</td>\n",
       "      <td>788.36</td>\n",
       "      <td>791.34</td>\n",
       "      <td>783.16</td>\n",
       "      <td>786.90</td>\n",
       "      <td>1,073,000</td>\n",
       "    </tr>\n",
       "    <tr>\n",
       "      <th>2</th>\n",
       "      <td>1/5/2017</td>\n",
       "      <td>786.08</td>\n",
       "      <td>794.48</td>\n",
       "      <td>785.02</td>\n",
       "      <td>794.02</td>\n",
       "      <td>1,335,200</td>\n",
       "    </tr>\n",
       "    <tr>\n",
       "      <th>3</th>\n",
       "      <td>1/6/2017</td>\n",
       "      <td>795.26</td>\n",
       "      <td>807.90</td>\n",
       "      <td>792.20</td>\n",
       "      <td>806.15</td>\n",
       "      <td>1,640,200</td>\n",
       "    </tr>\n",
       "    <tr>\n",
       "      <th>4</th>\n",
       "      <td>1/9/2017</td>\n",
       "      <td>806.40</td>\n",
       "      <td>809.97</td>\n",
       "      <td>802.83</td>\n",
       "      <td>806.65</td>\n",
       "      <td>1,272,400</td>\n",
       "    </tr>\n",
       "  </tbody>\n",
       "</table>\n",
       "</div>"
      ],
      "text/plain": [
       "       Date    Open    High     Low   Close     Volume\n",
       "0  1/3/2017  778.81  789.63  775.80  786.14  1,657,300\n",
       "1  1/4/2017  788.36  791.34  783.16  786.90  1,073,000\n",
       "2  1/5/2017  786.08  794.48  785.02  794.02  1,335,200\n",
       "3  1/6/2017  795.26  807.90  792.20  806.15  1,640,200\n",
       "4  1/9/2017  806.40  809.97  802.83  806.65  1,272,400"
      ]
     },
     "execution_count": 10,
     "metadata": {},
     "output_type": "execute_result"
    }
   ],
   "source": [
    "# Loadiing the real stock price of 2017\n",
    "test_data = pd.read_csv(\"datas/Google_Stock_test.csv\")\n",
    "test_data.head()"
   ]
  },
  {
   "cell_type": "code",
   "execution_count": 19,
   "metadata": {},
   "outputs": [],
   "source": [
    "# use only Open data\n",
    "dataset_test = test_data.iloc[:, 1:2].values"
   ]
  },
  {
   "cell_type": "code",
   "execution_count": 20,
   "metadata": {},
   "outputs": [],
   "source": [
    "# Getting the predicted stock price of 2017\n",
    "dataset_total = pd.concat((training_data[\"Open\"], test_data[\"Open\"]),axis = 0)"
   ]
  },
  {
   "cell_type": "code",
   "execution_count": 21,
   "metadata": {},
   "outputs": [
    {
     "data": {
      "text/plain": [
       "0    325.25\n",
       "1    331.27\n",
       "2    329.83\n",
       "3    328.34\n",
       "4    322.04\n",
       "Name: Open, dtype: float64"
      ]
     },
     "execution_count": 21,
     "metadata": {},
     "output_type": "execute_result"
    }
   ],
   "source": [
    "dataset_total.head()"
   ]
  },
  {
   "cell_type": "code",
   "execution_count": 23,
   "metadata": {},
   "outputs": [],
   "source": [
    "inputs = dataset_total[len(dataset_total) - len(dataset_test) -60:].values\n",
    "inputs = inputs.reshape(-1,1)\n",
    "inputs = sc.transform(inputs)\n",
    "x_test = []\n",
    "for i in range(60,80):\n",
    "    x_test.append(inputs[i-60:i, 0])\n",
    "x_test = np.array(x_test)\n",
    "x_test = np.reshape(x_test, (x_test.shape[0], x_test.shape[1],1))\n",
    "predicted_stock_price = regressor.predict(x_test)\n",
    "predicted_stock_price = sc.inverse_transform(predicted_stock_price)"
   ]
  },
  {
   "cell_type": "markdown",
   "metadata": {},
   "source": [
    "## Visualising teh Results"
   ]
  },
  {
   "cell_type": "code",
   "execution_count": null,
   "metadata": {},
   "outputs": [],
   "source": [
    "plt"
   ]
  },
  {
   "cell_type": "code",
   "execution_count": null,
   "metadata": {},
   "outputs": [],
   "source": []
  },
  {
   "cell_type": "code",
   "execution_count": null,
   "metadata": {},
   "outputs": [],
   "source": []
  },
  {
   "cell_type": "code",
   "execution_count": null,
   "metadata": {},
   "outputs": [],
   "source": []
  },
  {
   "cell_type": "code",
   "execution_count": null,
   "metadata": {},
   "outputs": [],
   "source": []
  },
  {
   "cell_type": "code",
   "execution_count": null,
   "metadata": {},
   "outputs": [],
   "source": []
  },
  {
   "cell_type": "code",
   "execution_count": null,
   "metadata": {},
   "outputs": [],
   "source": []
  }
 ],
 "metadata": {
  "kernelspec": {
   "display_name": "Python 3",
   "language": "python",
   "name": "python3"
  },
  "language_info": {
   "codemirror_mode": {
    "name": "ipython",
    "version": 3
   },
   "file_extension": ".py",
   "mimetype": "text/x-python",
   "name": "python",
   "nbconvert_exporter": "python",
   "pygments_lexer": "ipython3",
   "version": "3.8.5"
  }
 },
 "nbformat": 4,
 "nbformat_minor": 4
}
