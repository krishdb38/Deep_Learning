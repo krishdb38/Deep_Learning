{
 "cells": [
  {
   "cell_type": "code",
   "execution_count": 1,
   "metadata": {},
   "outputs": [],
   "source": [
    "import tensorflow as tf\n",
    "import numpy as np\n",
    "\n",
    "import matplotlib.pyplot as plt"
   ]
  },
  {
   "cell_type": "code",
   "execution_count": 3,
   "metadata": {},
   "outputs": [],
   "source": [
    "data = tf.keras.datasets.mnist"
   ]
  },
  {
   "cell_type": "code",
   "execution_count": 5,
   "metadata": {},
   "outputs": [],
   "source": [
    "data?"
   ]
  },
  {
   "cell_type": "code",
   "execution_count": 6,
   "metadata": {},
   "outputs": [
    {
     "name": "stdout",
     "output_type": "stream",
     "text": [
      "Help on package tensorflow.keras.datasets.mnist in tensorflow.keras.datasets:\n",
      "\n",
      "NAME\n",
      "    tensorflow.keras.datasets.mnist - MNIST handwritten digits dataset.\n",
      "\n",
      "PACKAGE CONTENTS\n",
      "\n",
      "\n",
      "FILE\n",
      "    c:\\programdata\\anaconda3\\lib\\site-packages\\tensorflow\\keras\\datasets\\mnist\\__init__.py\n",
      "\n",
      "\n"
     ]
    }
   ],
   "source": [
    "help(data)"
   ]
  },
  {
   "cell_type": "code",
   "execution_count": 11,
   "metadata": {},
   "outputs": [],
   "source": [
    "#data.load_data?"
   ]
  },
  {
   "cell_type": "code",
   "execution_count": 13,
   "metadata": {},
   "outputs": [
    {
     "data": {
      "text/plain": [
       "2"
      ]
     },
     "execution_count": 13,
     "metadata": {},
     "output_type": "execute_result"
    }
   ],
   "source": [
    "len(data.load_data())"
   ]
  },
  {
   "cell_type": "code",
   "execution_count": 8,
   "metadata": {},
   "outputs": [],
   "source": [
    "(x_train, y_train) , (x_test, y_test) = data.load_data()"
   ]
  },
  {
   "cell_type": "code",
   "execution_count": 10,
   "metadata": {},
   "outputs": [
    {
     "name": "stdout",
     "output_type": "stream",
     "text": [
      "X_train Shape  (60000, 28, 28)\n",
      "X_test Shape  (10000, 28, 28)\n",
      "Y_train Shape  (60000,)\n",
      "Y_test Shape  (10000,)\n"
     ]
    }
   ],
   "source": [
    "print(\"X_train Shape \",x_train.shape)\n",
    "print(\"X_test Shape \", x_test.shape)\n",
    "print(\"Y_train Shape \", y_train.shape)\n",
    "print(\"Y_test Shape \", y_test.shape)"
   ]
  },
  {
   "cell_type": "code",
   "execution_count": 68,
   "metadata": {},
   "outputs": [
    {
     "name": "stdout",
     "output_type": "stream",
     "text": [
      "331--> 332--> 333--> 334--> 335--> 336--> 337--> 338--> 339--> "
     ]
    },
    {
     "data": {
      "image/png": "[encoded data removed]",
      "text/plain": [
       "<Figure size 432x288 with 9 Axes>"
      ]
     },
     "metadata": {
      "needs_background": "light"
     },
     "output_type": "display_data"
    }
   ],
   "source": [
    "# Display the images\n",
    "for i in range(0,9):\n",
    "    #plt.imshow(x_train[i])\n",
    "    print(330 + 1+ i, end = \"--> \") # index used to display the image\n",
    "    plt.subplot(330 +1 + i)\n",
    "    plt.imshow(x_train[i+1])"
   ]
  },
  {
   "cell_type": "code",
   "execution_count": 75,
   "metadata": {},
   "outputs": [
    {
     "name": "stdout",
     "output_type": "stream",
     "text": [
      "255 255 0\n"
     ]
    }
   ],
   "source": [
    "print(x_train[0].max(),x_test.max(), x_test.min()) \n",
    "# These values will used to Normalize the data sets"
   ]
  },
  {
   "cell_type": "code",
   "execution_count": null,
   "metadata": {},
   "outputs": [],
   "source": [
    "## Before passing these data to Neueral Network \n",
    "## We need to Normalize these data\n",
    "## since the size of the image is 255 X 255 \n",
    "# So divide each by 255.0 so all values will change to 0 and 1 "
   ]
  },
  {
   "cell_type": "markdown",
   "metadata": {},
   "source": [
    "## Lets Build the Model"
   ]
  },
  {
   "cell_type": "code",
   "execution_count": 77,
   "metadata": {},
   "outputs": [
    {
     "name": "stdout",
     "output_type": "stream",
     "text": [
      "shape used to Flatten   (28, 28)\n"
     ]
    }
   ],
   "source": [
    "print(\"shape used to Flatten  \", x_train[0].shape)\n",
    "# We will use this "
   ]
  },
  {
   "cell_type": "code",
   "execution_count": 79,
   "metadata": {},
   "outputs": [],
   "source": [
    "# We will use Keras Sequential Model\n",
    "model = tf.keras.models.Sequential([\n",
    "    tf.keras.layers.Flatten(input_shape = (28,28)),\n",
    "    tf.keras.layers.Dense(128, activation = \"relu\"),\n",
    "    tf.keras.layers.Dense(10, activation = \"softmax\")\n",
    "])"
   ]
  },
  {
   "cell_type": "code",
   "execution_count": 91,
   "metadata": {},
   "outputs": [
    {
     "name": "stdout",
     "output_type": "stream",
     "text": [
      "Input in First Layer Input layer  784\n",
      "Total layer in Second Hidden layer   100480\n",
      "Total Parameter in Third Layer  1290\n",
      "Total Parameter is  101264\n"
     ]
    }
   ],
   "source": [
    "print(\"Input in First Layer Input layer \", 28 * 28)\n",
    "print(\"Total layer in Second Hidden layer  \", 28* 28 *128 + 128)\n",
    "print(\"Total Parameter in Third Layer \", 128 * 10 + 10)\n",
    "\n",
    "print(\"Total Parameter is \", (28 * 28)  + (28*28*128+128)  )\n",
    "\n",
    "# Input Weight X Layer Unints + Input Weight ( Weight is Parameter)"
   ]
  },
  {
   "cell_type": "code",
   "execution_count": 94,
   "metadata": {},
   "outputs": [
    {
     "data": {
      "text/plain": [
       "506"
      ]
     },
     "execution_count": 94,
     "metadata": {},
     "output_type": "execute_result"
    }
   ],
   "source": [
    "101770 -101264"
   ]
  },
  {
   "cell_type": "code",
   "execution_count": 80,
   "metadata": {
    "scrolled": true
   },
   "outputs": [
    {
     "name": "stdout",
     "output_type": "stream",
     "text": [
      "Model: \"sequential\"\n",
      "_________________________________________________________________\n",
      "Layer (type)                 Output Shape              Param #   \n",
      "=================================================================\n",
      "flatten (Flatten)            (None, 784)               0         \n",
      "_________________________________________________________________\n",
      "dense (Dense)                (None, 128)               100480    \n",
      "_________________________________________________________________\n",
      "dense_1 (Dense)              (None, 10)                1290      \n",
      "=================================================================\n",
      "Total params: 101,770\n",
      "Trainable params: 101,770\n",
      "Non-trainable params: 0\n",
      "_________________________________________________________________\n"
     ]
    }
   ],
   "source": [
    "model.summary()"
   ]
  },
  {
   "cell_type": "code",
   "execution_count": 100,
   "metadata": {},
   "outputs": [],
   "source": [
    "model.compile(optimizer = \"adam\", loss = \"sparse_categorical_crossentropy\",\n",
    "              metrics=\"accuracy\")"
   ]
  },
  {
   "cell_type": "code",
   "execution_count": 101,
   "metadata": {},
   "outputs": [
    {
     "name": "stdout",
     "output_type": "stream",
     "text": [
      "Epoch 1/100\n",
      "1875/1875 [==============================] - 1s 493us/step - loss: 7.1270 - accuracy: 0.8118\n",
      "Epoch 2/100\n",
      "1875/1875 [==============================] - 1s 490us/step - loss: 0.4221 - accuracy: 0.9002\n",
      "Epoch 3/100\n",
      "1875/1875 [==============================] - 1s 508us/step - loss: 0.3010 - accuracy: 0.9241\n",
      "Epoch 4/100\n",
      "1875/1875 [==============================] - 1s 549us/step - loss: 0.2487 - accuracy: 0.9375\n",
      "Epoch 5/100\n",
      "1875/1875 [==============================] - 1s 548us/step - loss: 0.2231 - accuracy: 0.9438\n",
      "Epoch 6/100\n",
      "1875/1875 [==============================] - 1s 521us/step - loss: 0.1921 - accuracy: 0.9498\n",
      "Epoch 7/100\n",
      "1875/1875 [==============================] - 1s 519us/step - loss: 0.1893 - accuracy: 0.9525\n",
      "Epoch 8/100\n",
      "1875/1875 [==============================] - 1s 490us/step - loss: 0.1859 - accuracy: 0.9547\n",
      "Epoch 9/100\n",
      "1875/1875 [==============================] - 1s 493us/step - loss: 0.1803 - accuracy: 0.9543\n",
      "Epoch 10/100\n",
      "1875/1875 [==============================] - 1s 508us/step - loss: 0.1756 - accuracy: 0.9588\n",
      "Epoch 11/100\n",
      "1875/1875 [==============================] - 1s 522us/step - loss: 0.1638 - accuracy: 0.9619\n",
      "Epoch 12/100\n",
      "1875/1875 [==============================] - 1s 521us/step - loss: 0.1546 - accuracy: 0.9634\n",
      "Epoch 13/100\n",
      "1875/1875 [==============================] - 1s 525us/step - loss: 0.1505 - accuracy: 0.9639\n",
      "Epoch 14/100\n",
      "1875/1875 [==============================] - 1s 528us/step - loss: 0.1606 - accuracy: 0.9628\n",
      "Epoch 15/100\n",
      "1875/1875 [==============================] - 1s 521us/step - loss: 0.1543 - accuracy: 0.9643\n",
      "Epoch 16/100\n",
      "1875/1875 [==============================] - 1s 522us/step - loss: 0.1444 - accuracy: 0.9654\n",
      "Epoch 17/100\n",
      "1875/1875 [==============================] - 1s 519us/step - loss: 0.1420 - accuracy: 0.9666\n",
      "Epoch 18/100\n",
      "1875/1875 [==============================] - 1s 524us/step - loss: 0.1432 - accuracy: 0.9665\n",
      "Epoch 19/100\n",
      "1875/1875 [==============================] - 1s 524us/step - loss: 0.1314 - accuracy: 0.9690\n",
      "Epoch 20/100\n",
      "1875/1875 [==============================] - 1s 525us/step - loss: 0.1407 - accuracy: 0.9686\n",
      "Epoch 21/100\n",
      "1875/1875 [==============================] - 1s 521us/step - loss: 0.1365 - accuracy: 0.9697\n",
      "Epoch 22/100\n",
      "1875/1875 [==============================] - 1s 525us/step - loss: 0.1332 - accuracy: 0.9699\n",
      "Epoch 23/100\n",
      "1875/1875 [==============================] - 1s 519us/step - loss: 0.1274 - accuracy: 0.9716\n",
      "Epoch 24/100\n",
      "1875/1875 [==============================] - 1s 522us/step - loss: 0.1272 - accuracy: 0.9713\n",
      "Epoch 25/100\n",
      "1875/1875 [==============================] - 1s 519us/step - loss: 0.1217 - accuracy: 0.9729\n",
      "Epoch 26/100\n",
      "1875/1875 [==============================] - 1s 518us/step - loss: 0.1225 - accuracy: 0.9723\n",
      "Epoch 27/100\n",
      "1875/1875 [==============================] - 1s 516us/step - loss: 0.1343 - accuracy: 0.9697\n",
      "Epoch 28/100\n",
      "1875/1875 [==============================] - 1s 517us/step - loss: 0.1407 - accuracy: 0.9712\n",
      "Epoch 29/100\n",
      "1875/1875 [==============================] - 1s 523us/step - loss: 0.1127 - accuracy: 0.9741\n",
      "Epoch 30/100\n",
      "1875/1875 [==============================] - 1s 526us/step - loss: 0.1340 - accuracy: 0.9724\n",
      "Epoch 31/100\n",
      "1875/1875 [==============================] - 1s 526us/step - loss: 0.1258 - accuracy: 0.9719\n",
      "Epoch 32/100\n",
      "1875/1875 [==============================] - 1s 529us/step - loss: 0.1185 - accuracy: 0.9730\n",
      "Epoch 33/100\n",
      "1875/1875 [==============================] - 1s 530us/step - loss: 0.1291 - accuracy: 0.9725\n",
      "Epoch 34/100\n",
      "1875/1875 [==============================] - 1s 533us/step - loss: 0.1228 - accuracy: 0.9732\n",
      "Epoch 35/100\n",
      "1875/1875 [==============================] - 1s 534us/step - loss: 0.1232 - accuracy: 0.9736\n",
      "Epoch 36/100\n",
      "1875/1875 [==============================] - 1s 540us/step - loss: 0.1238 - accuracy: 0.9731\n",
      "Epoch 37/100\n",
      "1875/1875 [==============================] - 1s 536us/step - loss: 0.1202 - accuracy: 0.9734\n",
      "Epoch 38/100\n",
      "1875/1875 [==============================] - 1s 533us/step - loss: 0.1209 - accuracy: 0.9748\n",
      "Epoch 39/100\n",
      "1875/1875 [==============================] - 1s 535us/step - loss: 0.1258 - accuracy: 0.9737\n",
      "Epoch 40/100\n",
      "1875/1875 [==============================] - 1s 537us/step - loss: 0.1153 - accuracy: 0.9739\n",
      "Epoch 41/100\n",
      "1875/1875 [==============================] - 1s 535us/step - loss: 0.1134 - accuracy: 0.9744\n",
      "Epoch 42/100\n",
      "1875/1875 [==============================] - 1s 534us/step - loss: 0.1227 - accuracy: 0.9739\n",
      "Epoch 43/100\n",
      "1875/1875 [==============================] - 1s 530us/step - loss: 0.1126 - accuracy: 0.9752\n",
      "Epoch 44/100\n",
      "1875/1875 [==============================] - 1s 530us/step - loss: 0.1119 - accuracy: 0.9757\n",
      "Epoch 45/100\n",
      "1875/1875 [==============================] - 1s 531us/step - loss: 0.1208 - accuracy: 0.9757\n",
      "Epoch 46/100\n",
      "1875/1875 [==============================] - 1s 532us/step - loss: 0.1121 - accuracy: 0.9756\n",
      "Epoch 47/100\n",
      "1875/1875 [==============================] - 1s 530us/step - loss: 0.1075 - accuracy: 0.9761\n",
      "Epoch 48/100\n",
      "1875/1875 [==============================] - 1s 535us/step - loss: 0.1242 - accuracy: 0.9750\n",
      "Epoch 49/100\n",
      "1875/1875 [==============================] - 1s 532us/step - loss: 0.1106 - accuracy: 0.9769\n",
      "Epoch 50/100\n",
      "1875/1875 [==============================] - 1s 533us/step - loss: 0.1198 - accuracy: 0.9768\n",
      "Epoch 51/100\n",
      "1875/1875 [==============================] - 1s 531us/step - loss: 0.1047 - accuracy: 0.9780\n",
      "Epoch 52/100\n",
      "1875/1875 [==============================] - 1s 532us/step - loss: 0.1074 - accuracy: 0.9760\n",
      "Epoch 53/100\n",
      "1875/1875 [==============================] - 1s 524us/step - loss: 0.1176 - accuracy: 0.9767\n",
      "Epoch 54/100\n",
      "1875/1875 [==============================] - 1s 523us/step - loss: 0.1129 - accuracy: 0.9759\n",
      "Epoch 55/100\n",
      "1875/1875 [==============================] - 1s 521us/step - loss: 0.1045 - accuracy: 0.9759\n",
      "Epoch 56/100\n",
      "1875/1875 [==============================] - 1s 520us/step - loss: 0.1163 - accuracy: 0.9770\n",
      "Epoch 57/100\n",
      "1875/1875 [==============================] - 1s 522us/step - loss: 0.1383 - accuracy: 0.9744\n",
      "Epoch 58/100\n",
      "1875/1875 [==============================] - 1s 520us/step - loss: 0.1159 - accuracy: 0.9743\n",
      "Epoch 59/100\n",
      "1875/1875 [==============================] - 1s 520us/step - loss: 0.1120 - accuracy: 0.9763\n",
      "Epoch 60/100\n",
      "1875/1875 [==============================] - 1s 522us/step - loss: 0.1004 - accuracy: 0.9786\n",
      "Epoch 61/100\n",
      "1875/1875 [==============================] - 1s 523us/step - loss: 0.1054 - accuracy: 0.9780\n",
      "Epoch 62/100\n",
      "1875/1875 [==============================] - 1s 521us/step - loss: 0.1044 - accuracy: 0.9777\n",
      "Epoch 63/100\n",
      "1875/1875 [==============================] - 1s 522us/step - loss: 0.1097 - accuracy: 0.9768\n",
      "Epoch 64/100\n",
      "1875/1875 [==============================] - 1s 522us/step - loss: 0.1003 - accuracy: 0.9774\n",
      "Epoch 65/100\n",
      "1875/1875 [==============================] - 1s 522us/step - loss: 0.1062 - accuracy: 0.9779\n",
      "Epoch 66/100\n",
      "1875/1875 [==============================] - 1s 522us/step - loss: 0.1008 - accuracy: 0.9776\n",
      "Epoch 67/100\n",
      "1875/1875 [==============================] - 1s 522us/step - loss: 0.1136 - accuracy: 0.9778\n",
      "Epoch 68/100\n",
      "1875/1875 [==============================] - 1s 527us/step - loss: 0.1191 - accuracy: 0.9772\n",
      "Epoch 69/100\n",
      "1875/1875 [==============================] - 1s 525us/step - loss: 0.0984 - accuracy: 0.9796\n",
      "Epoch 70/100\n",
      "1875/1875 [==============================] - 1s 518us/step - loss: 0.0937 - accuracy: 0.9803\n",
      "Epoch 71/100\n",
      "1875/1875 [==============================] - 1s 530us/step - loss: 0.1041 - accuracy: 0.9780\n",
      "Epoch 72/100\n",
      "1875/1875 [==============================] - 1s 525us/step - loss: 0.1011 - accuracy: 0.9805\n",
      "Epoch 73/100\n",
      "1875/1875 [==============================] - 1s 522us/step - loss: 0.1174 - accuracy: 0.9763\n",
      "Epoch 74/100\n",
      "1875/1875 [==============================] - 1s 525us/step - loss: 0.1110 - accuracy: 0.9774\n",
      "Epoch 75/100\n",
      "1875/1875 [==============================] - 1s 525us/step - loss: 0.0980 - accuracy: 0.9788\n",
      "Epoch 76/100\n",
      "1875/1875 [==============================] - 1s 528us/step - loss: 0.1056 - accuracy: 0.9788\n",
      "Epoch 77/100\n",
      "1875/1875 [==============================] - 1s 531us/step - loss: 0.0952 - accuracy: 0.9795\n",
      "Epoch 78/100\n"
     ]
    },
    {
     "name": "stdout",
     "output_type": "stream",
     "text": [
      "1875/1875 [==============================] - 1s 529us/step - loss: 0.1088 - accuracy: 0.9794\n",
      "Epoch 79/100\n",
      "1875/1875 [==============================] - 1s 528us/step - loss: 0.1081 - accuracy: 0.9784\n",
      "Epoch 80/100\n",
      "1875/1875 [==============================] - 1s 527us/step - loss: 0.1070 - accuracy: 0.9780\n",
      "Epoch 81/100\n",
      "1875/1875 [==============================] - 1s 531us/step - loss: 0.0932 - accuracy: 0.9798\n",
      "Epoch 82/100\n",
      "1875/1875 [==============================] - 1s 531us/step - loss: 0.0982 - accuracy: 0.9791\n",
      "Epoch 83/100\n",
      "1875/1875 [==============================] - 1s 542us/step - loss: 0.0953 - accuracy: 0.9799\n",
      "Epoch 84/100\n",
      "1875/1875 [==============================] - 1s 542us/step - loss: 0.1137 - accuracy: 0.9773\n",
      "Epoch 85/100\n",
      "1875/1875 [==============================] - 1s 508us/step - loss: 0.0866 - accuracy: 0.9808\n",
      "Epoch 86/100\n",
      "1875/1875 [==============================] - 1s 504us/step - loss: 0.0976 - accuracy: 0.9799\n",
      "Epoch 87/100\n",
      "1875/1875 [==============================] - 1s 506us/step - loss: 0.1266 - accuracy: 0.9781\n",
      "Epoch 88/100\n",
      "1875/1875 [==============================] - 1s 523us/step - loss: 0.1015 - accuracy: 0.9800\n",
      "Epoch 89/100\n",
      "1875/1875 [==============================] - 1s 500us/step - loss: 0.0998 - accuracy: 0.9786\n",
      "Epoch 90/100\n",
      "1875/1875 [==============================] - 1s 495us/step - loss: 0.1016 - accuracy: 0.9793\n",
      "Epoch 91/100\n",
      "1875/1875 [==============================] - 1s 492us/step - loss: 0.1033 - accuracy: 0.9800\n",
      "Epoch 92/100\n",
      "1875/1875 [==============================] - 1s 505us/step - loss: 0.0977 - accuracy: 0.9790\n",
      "Epoch 93/100\n",
      "1875/1875 [==============================] - 1s 497us/step - loss: 0.0901 - accuracy: 0.9800\n",
      "Epoch 94/100\n",
      "1875/1875 [==============================] - 1s 503us/step - loss: 0.1050 - accuracy: 0.9785\n",
      "Epoch 95/100\n",
      "1875/1875 [==============================] - 1s 499us/step - loss: 0.1225 - accuracy: 0.9787\n",
      "Epoch 96/100\n",
      "1875/1875 [==============================] - 1s 515us/step - loss: 0.0931 - accuracy: 0.9807\n",
      "Epoch 97/100\n",
      "1875/1875 [==============================] - 1s 519us/step - loss: 0.1012 - accuracy: 0.9787\n",
      "Epoch 98/100\n",
      "1875/1875 [==============================] - 1s 523us/step - loss: 0.1002 - accuracy: 0.9804\n",
      "Epoch 99/100\n",
      "1875/1875 [==============================] - 1s 521us/step - loss: 0.0936 - accuracy: 0.9806\n",
      "Epoch 100/100\n",
      "1875/1875 [==============================] - 1s 516us/step - loss: 0.0995 - accuracy: 0.9788\n"
     ]
    },
    {
     "data": {
      "text/plain": [
       "<tensorflow.python.keras.callbacks.History at 0x219c6b71a90>"
      ]
     },
     "execution_count": 101,
     "metadata": {},
     "output_type": "execute_result"
    }
   ],
   "source": [
    "model.fit(x_train,y_train, epochs=100)"
   ]
  },
  {
   "cell_type": "code",
   "execution_count": null,
   "metadata": {},
   "outputs": [],
   "source": [
    "# In the above we find accuracy up to 98 .06 \n",
    "# Also seems over fitting"
   ]
  },
  {
   "cell_type": "code",
   "execution_count": 104,
   "metadata": {},
   "outputs": [
    {
     "name": "stdout",
     "output_type": "stream",
     "text": [
      "[0. 0. 0. 0. 0. 0. 0. 1. 0. 0.]\n",
      "7\n"
     ]
    },
    {
     "data": {
      "image/png": "[encoded data removed]",
      "text/plain": [
       "<Figure size 432x288 with 1 Axes>"
      ]
     },
     "metadata": {
      "needs_background": "light"
     },
     "output_type": "display_data"
    }
   ],
   "source": [
    "plt.imshow(x_test[0])\n",
    "prediction = model.predict(x_test)\n",
    "print(prediction[0])\n",
    "print(np.argmax(prediction[0]))"
   ]
  },
  {
   "cell_type": "code",
   "execution_count": null,
   "metadata": {},
   "outputs": [],
   "source": []
  }
 ],
 "metadata": {
  "kernelspec": {
   "display_name": "Python 3",
   "language": "python",
   "name": "python3"
  },
  "language_info": {
   "codemirror_mode": {
    "name": "ipython",
    "version": 3
   },
   "file_extension": ".py",
   "mimetype": "text/x-python",
   "name": "python",
   "nbconvert_exporter": "python",
   "pygments_lexer": "ipython3",
   "version": "3.8.5"
  }
 },
 "nbformat": 4,
 "nbformat_minor": 4
}
